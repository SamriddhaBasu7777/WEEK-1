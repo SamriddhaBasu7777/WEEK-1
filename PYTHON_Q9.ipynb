{
  "nbformat": 4,
  "nbformat_minor": 0,
  "metadata": {
    "colab": {
      "provenance": [],
      "authorship_tag": "ABX9TyNG3XR2UJnXJp7dEaa8diaj",
      "include_colab_link": true
    },
    "kernelspec": {
      "name": "python3",
      "display_name": "Python 3"
    },
    "language_info": {
      "name": "python"
    }
  },
  "cells": [
    {
      "cell_type": "markdown",
      "metadata": {
        "id": "view-in-github",
        "colab_type": "text"
      },
      "source": [
        "<a href=\"https://colab.research.google.com/github/SamriddhaBasu7777/WEEK-1/blob/main/PYTHON_Q9.ipynb\" target=\"_parent\"><img src=\"https://colab.research.google.com/assets/colab-badge.svg\" alt=\"Open In Colab\"/></a>"
      ]
    },
    {
      "cell_type": "markdown",
      "source": [],
      "metadata": {
        "id": "PIJan3a9hybv"
      }
    },
    {
      "cell_type": "code",
      "source": [
        "arr = [10, 20, 10, 5, 20]\n",
        "freq = {}\n",
        "\n",
        "for num in arr:\n",
        "    if num in freq:\n",
        "        freq[num] += 1\n",
        "    else:\n",
        "        freq[num] = 1\n",
        "\n",
        "for key in freq:\n",
        "    print(f\"{key} occurs {freq[key]} time(s)\")\n"
      ],
      "metadata": {
        "colab": {
          "base_uri": "https://localhost:8080/"
        },
        "id": "n95d3TiyhysQ",
        "outputId": "2a4c26bb-cf8e-4ddf-a53e-9266a7b14e49"
      },
      "execution_count": 16,
      "outputs": [
        {
          "output_type": "stream",
          "name": "stdout",
          "text": [
            "[5, 4, 3, 2, 1]\n"
          ]
        }
      ]
    }
  ]
}