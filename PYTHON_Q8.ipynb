{
  "nbformat": 4,
  "nbformat_minor": 0,
  "metadata": {
    "colab": {
      "provenance": [],
      "authorship_tag": "ABX9TyOUz4n7tvg4nDxmCykblyga",
      "include_colab_link": true
    },
    "kernelspec": {
      "name": "python3",
      "display_name": "Python 3"
    },
    "language_info": {
      "name": "python"
    }
  },
  "cells": [
    {
      "cell_type": "markdown",
      "metadata": {
        "id": "view-in-github",
        "colab_type": "text"
      },
      "source": [
        "<a href=\"https://colab.research.google.com/github/SamriddhaBasu7777/WEEK-1/blob/main/PYTHON_Q8.ipynb\" target=\"_parent\"><img src=\"https://colab.research.google.com/assets/colab-badge.svg\" alt=\"Open In Colab\"/></a>"
      ]
    },
    {
      "cell_type": "code",
      "execution_count": 14,
      "metadata": {
        "colab": {
          "base_uri": "https://localhost:8080/"
        },
        "id": "-e1Qak9mUw5r",
        "outputId": "e4863c0e-918c-4b68-f2c3-ffc89da3577b"
      },
      "outputs": [
        {
          "output_type": "stream",
          "name": "stdout",
          "text": [
            "\"malayalam\" is a palindrome.\n"
          ]
        }
      ],
      "source": [
        "s = \"malayalam\"\n",
        "i, j = 0, len(s) - 1\n",
        "is_palindrome = True\n",
        "\n",
        "while i < j:\n",
        "    if s[i] != s[j]:\n",
        "        is_palindrome = False\n",
        "        break\n",
        "    i += 1\n",
        "    j -= 1\n",
        "\n",
        "if is_palindrome:\n",
        "    print(f'\"{s}\" is a palindrome.')\n",
        "else:\n",
        "    print(f'\"{s}\" is not a palindrome.')\n"
      ]
    }
  ]
}