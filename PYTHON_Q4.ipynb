{
  "nbformat": 4,
  "nbformat_minor": 0,
  "metadata": {
    "colab": {
      "provenance": [],
      "authorship_tag": "ABX9TyO74gj8GKOgLhGCsnjHPBk2",
      "include_colab_link": true
    },
    "kernelspec": {
      "name": "python3",
      "display_name": "Python 3"
    },
    "language_info": {
      "name": "python"
    }
  },
  "cells": [
    {
      "cell_type": "markdown",
      "metadata": {
        "id": "view-in-github",
        "colab_type": "text"
      },
      "source": [
        "<a href=\"https://colab.research.google.com/github/SamriddhaBasu7777/WEEK-1/blob/main/PYTHON_Q4.ipynb\" target=\"_parent\"><img src=\"https://colab.research.google.com/assets/colab-badge.svg\" alt=\"Open In Colab\"/></a>"
      ]
    },
    {
      "cell_type": "code",
      "execution_count": 8,
      "metadata": {
        "colab": {
          "base_uri": "https://localhost:8080/"
        },
        "id": "-e1Qak9mUw5r",
        "outputId": "a42f20cd-2684-4a0a-c1fd-341cd3ed1c8c"
      },
      "outputs": [
        {
          "output_type": "stream",
          "name": "stdout",
          "text": [
            "[3, 5, 1, 9, 0, 0, 0, 0]\n"
          ]
        }
      ],
      "source": [
        "arr = [0, 3, 0, 5, 0, 1, 9, 0]\n",
        "result = []\n",
        "\n",
        "for x in arr:\n",
        "    if x != 0:\n",
        "        result.append(x)\n",
        "\n",
        "for _ in range(len(arr) - len(result)):\n",
        "    result.append(0)\n",
        "\n",
        "print(result)\n"
      ]
    }
  ]
}