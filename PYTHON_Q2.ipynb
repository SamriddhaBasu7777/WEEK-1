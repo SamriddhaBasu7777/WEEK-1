{
  "nbformat": 4,
  "nbformat_minor": 0,
  "metadata": {
    "colab": {
      "provenance": [],
      "authorship_tag": "ABX9TyO9MGYgoHT9Ax5sjTmx/tqg",
      "include_colab_link": true
    },
    "kernelspec": {
      "name": "python3",
      "display_name": "Python 3"
    },
    "language_info": {
      "name": "python"
    }
  },
  "cells": [
    {
      "cell_type": "markdown",
      "metadata": {
        "id": "view-in-github",
        "colab_type": "text"
      },
      "source": [
        "<a href=\"https://colab.research.google.com/github/SamriddhaBasu7777/WEEK-1/blob/main/PYTHON_Q2.ipynb\" target=\"_parent\"><img src=\"https://colab.research.google.com/assets/colab-badge.svg\" alt=\"Open In Colab\"/></a>"
      ]
    },
    {
      "cell_type": "code",
      "execution_count": 3,
      "metadata": {
        "colab": {
          "base_uri": "https://localhost:8080/"
        },
        "id": "-e1Qak9mUw5r",
        "outputId": "b21d7ce4-9f2a-4ab0-bc6d-007974b1721d"
      },
      "outputs": [
        {
          "output_type": "stream",
          "name": "stdout",
          "text": [
            "The largest element is: 5\n"
          ]
        }
      ],
      "source": [
        "list = [1,2,3,4,5]\n",
        "largest = max(list)\n",
        "print(f\"The largest element is: {largest}\")"
      ]
    }
  ]
}