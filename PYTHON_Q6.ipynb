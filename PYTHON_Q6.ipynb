{
  "nbformat": 4,
  "nbformat_minor": 0,
  "metadata": {
    "colab": {
      "provenance": [],
      "authorship_tag": "ABX9TyO/ZrXeLN8p+TxmBnX8TMjE",
      "include_colab_link": true
    },
    "kernelspec": {
      "name": "python3",
      "display_name": "Python 3"
    },
    "language_info": {
      "name": "python"
    }
  },
  "cells": [
    {
      "cell_type": "markdown",
      "metadata": {
        "id": "view-in-github",
        "colab_type": "text"
      },
      "source": [
        "<a href=\"https://colab.research.google.com/github/SamriddhaBasu7777/WEEK-1/blob/main/PYTHON_Q6.ipynb\" target=\"_parent\"><img src=\"https://colab.research.google.com/assets/colab-badge.svg\" alt=\"Open In Colab\"/></a>"
      ]
    },
    {
      "cell_type": "markdown",
      "source": [],
      "metadata": {
        "id": "PIJan3a9hybv"
      }
    },
    {
      "cell_type": "code",
      "source": [
        "arr = [10, 20, 30, 40, 50]\n",
        "n = len(arr)\n",
        "sorted_flag = True\n",
        "\n",
        "for i in range(1, n):\n",
        "    if arr[i] < arr[i - 1]:\n",
        "        sorted_flag = False\n",
        "        break\n",
        "\n",
        "if sorted_flag:\n",
        "    print(\"The array is sorted in non-decreasing order.\")\n",
        "else:\n",
        "    print(\"The array is not sorted.\")\n"
      ],
      "metadata": {
        "colab": {
          "base_uri": "https://localhost:8080/"
        },
        "id": "n95d3TiyhysQ",
        "outputId": "84d1f0d8-6b2d-4d64-be66-390669df5b29"
      },
      "execution_count": 18,
      "outputs": [
        {
          "output_type": "stream",
          "name": "stdout",
          "text": [
            "The array is sorted in non-decreasing order.\n"
          ]
        }
      ]
    }
  ]
}