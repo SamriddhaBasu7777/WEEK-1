{
  "nbformat": 4,
  "nbformat_minor": 0,
  "metadata": {
    "colab": {
      "provenance": [],
      "authorship_tag": "ABX9TyNYBmGyHlZn+SLPk8Yq3e5d",
      "include_colab_link": true
    },
    "kernelspec": {
      "name": "python3",
      "display_name": "Python 3"
    },
    "language_info": {
      "name": "python"
    }
  },
  "cells": [
    {
      "cell_type": "markdown",
      "metadata": {
        "id": "view-in-github",
        "colab_type": "text"
      },
      "source": [
        "<a href=\"https://colab.research.google.com/github/SamriddhaBasu7777/WEEK-1/blob/main/PYTHON_Q5.ipynb\" target=\"_parent\"><img src=\"https://colab.research.google.com/assets/colab-badge.svg\" alt=\"Open In Colab\"/></a>"
      ]
    },
    {
      "cell_type": "code",
      "execution_count": 10,
      "metadata": {
        "colab": {
          "base_uri": "https://localhost:8080/"
        },
        "id": "-e1Qak9mUw5r",
        "outputId": "b81c84cb-9a6f-416c-9698-b4b07b761bb9"
      },
      "outputs": [
        {
          "output_type": "stream",
          "name": "stdout",
          "text": [
            "5 1 2 3 4 "
          ]
        }
      ],
      "source": [
        "arr = [1, 2, 3, 4, 5]\n",
        "\n",
        "last = arr[-1]\n",
        "\n",
        "for i in range(len(arr) - 1, 0, -1):\n",
        "    arr[i] = arr[i - 1]\n",
        "\n",
        "arr[0] = last\n",
        "\n",
        "for i in arr:\n",
        "    print(i, end=' ')\n"
      ]
    }
  ]
}