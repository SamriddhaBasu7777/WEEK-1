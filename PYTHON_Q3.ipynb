{
  "nbformat": 4,
  "nbformat_minor": 0,
  "metadata": {
    "colab": {
      "provenance": [],
      "authorship_tag": "ABX9TyO3G9zUoxYaisVACZJE868B",
      "include_colab_link": true
    },
    "kernelspec": {
      "name": "python3",
      "display_name": "Python 3"
    },
    "language_info": {
      "name": "python"
    }
  },
  "cells": [
    {
      "cell_type": "markdown",
      "metadata": {
        "id": "view-in-github",
        "colab_type": "text"
      },
      "source": [
        "<a href=\"https://colab.research.google.com/github/SamriddhaBasu7777/WEEK-1/blob/main/PYTHON_Q3.ipynb\" target=\"_parent\"><img src=\"https://colab.research.google.com/assets/colab-badge.svg\" alt=\"Open In Colab\"/></a>"
      ]
    },
    {
      "cell_type": "code",
      "execution_count": 7,
      "metadata": {
        "colab": {
          "base_uri": "https://localhost:8080/"
        },
        "id": "-e1Qak9mUw5r",
        "outputId": "75be70ab-74fd-4fa6-de9e-fa159db6667e"
      },
      "outputs": [
        {
          "output_type": "stream",
          "name": "stdout",
          "text": [
            "The second largest element in the array =  5\n"
          ]
        }
      ],
      "source": [
        "arr = [5, 1, 8, 3, 8, 4]\n",
        "\n",
        "largest = second = float('-inf')\n",
        "\n",
        "for num in arr:\n",
        "    if num > largest:\n",
        "        second = largest\n",
        "        largest = num\n",
        "    elif num > second and num != largest:\n",
        "        second = num\n",
        "\n",
        "print(\"The second largest element in the array = \" ,second)"
      ]
    }
  ]
}